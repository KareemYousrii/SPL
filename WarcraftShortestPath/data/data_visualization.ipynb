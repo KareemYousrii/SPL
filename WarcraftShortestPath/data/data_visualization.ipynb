{
 "cells": [
  {
   "cell_type": "code",
   "execution_count": 1,
   "metadata": {
    "pycharm": {
     "name": "#%%\n"
    }
   },
   "outputs": [
    {
     "name": "stdout",
     "output_type": "stream",
     "text": [
      "Not using progress bar\n"
     ]
    }
   ],
   "source": [
    "import numpy as np\n",
    "import os, sys\n",
    "import tarfile\n",
    "import urllib.request\n",
    "from matplotlib import pyplot as plt\n",
    "from utils import perfect_matching_vis, plot_tsp_path, download_url\n",
    "%matplotlib inline"
   ]
  },
  {
   "cell_type": "markdown",
   "metadata": {},
   "source": [
    "# Warcraft Shortest Path"
   ]
  },
  {
   "cell_type": "markdown",
   "metadata": {},
   "source": [
    "For the Warcraft Sortest Path dataset we have randomly genrated maps of different sizes with optimal shortest path from the top left vertex to the bottom right vertex. Each type of tile has a different cost, we also supply the costs used to generate the optimal shortest paths."
   ]
  },
  {
   "cell_type": "code",
   "execution_count": null,
   "metadata": {},
   "outputs": [],
   "source": [
    "data_dir = '../data/warcraft_shortest_path/12x12/'\n",
    "\n",
    "data_suffix = \"maps\"\n",
    "train_prefix = \"train\"\n",
    "\n",
    "\n",
    "test_inputs = np.load(os.path.join(data_dir, train_prefix + \"_\" + data_suffix + \".npy\"))\n",
    "test_weights = np.load(os.path.join(data_dir, train_prefix + \"_vertex_weights.npy\"))\n",
    "test_labels = np.load(os.path.join(data_dir, train_prefix + \"_shortest_paths.npy\"))\n",
    "\n",
    "#images = train_inputs.transpose(0,2,3,1).astype(np.uint8)\n",
    "images = test_inputs\n",
    "\n",
    "print(\"Test images shape: \", test_inputs.shape)\n",
    "print(\"Test labels shape: \",  test_labels.shape)\n",
    "print(\"Weights shape:\", test_weights.shape)\n",
    "\n",
    "indices = [10, 22, 26, 28, 31, 41, 48, 57]\n",
    "for idx in indices:\n",
    "    im = images[idx]\n",
    "    label = test_labels[idx]\n",
    "    weights = test_weights[idx]\n",
    "#     sl = sl_pred[idx]\n",
    "    baseline = baseline_pred[idx]\n",
    "\n",
    "\n",
    "    from data.visualization import draw_paths_on_image\n",
    "    baseline_image = draw_paths_on_image(image=im, true_path=label, suggested_path=baseline, scaling_factor=2, color=\"#FF0000\")\n",
    "#     sl_image = draw_paths_on_image(image=im, true_path=label, suggested_path=sl, scaling_factor=1, color=\"#FFFF00\")\n",
    "\n",
    "    fig, ax = plt.subplots(1,3, figsize=(24,18), dpi=80)\n",
    "\n",
    "    ax[0].imshow(im.astype(np.uint8))\n",
    "    ax[0].set_title(\"Map\")\n",
    "    ax[1].imshow(baseline_image)\n",
    "    ax[1].set_title(\"Baseline Prediction\")\n",
    "    ax[2].set_title(\"SL Prediction\")\n",
    "#     ax[2].imshow(sl_image)\n",
    "    fig.savefig(str(idx) + '.png', dpi=80, transparent=True)"
   ]
  },
  {
   "cell_type": "code",
   "execution_count": 2,
   "metadata": {},
   "outputs": [
    {
     "name": "stdout",
     "output_type": "stream",
     "text": [
      "Train images shape:  (10000, 96, 96, 3)\n",
      "Train labels shape:  (10000, 264)\n",
      "Weights shape: (10000, 12, 12)\n"
     ]
    },
    {
     "ename": "ModuleNotFoundError",
     "evalue": "No module named 'comb_modules'",
     "output_type": "error",
     "traceback": [
      "\u001b[0;31m---------------------------------------------------------------------------\u001b[0m",
      "\u001b[0;31mModuleNotFoundError\u001b[0m                       Traceback (most recent call last)",
      "\u001b[0;32m/tmp/ipykernel_2423063/3383459374.py\u001b[0m in \u001b[0;36m<module>\u001b[0;34m\u001b[0m\n\u001b[1;32m     21\u001b[0m \u001b[0mweights\u001b[0m \u001b[0;34m=\u001b[0m \u001b[0mtrain_weights\u001b[0m\u001b[0;34m[\u001b[0m\u001b[0midx\u001b[0m\u001b[0;34m]\u001b[0m\u001b[0;34m\u001b[0m\u001b[0;34m\u001b[0m\u001b[0m\n\u001b[1;32m     22\u001b[0m \u001b[0;34m\u001b[0m\u001b[0m\n\u001b[0;32m---> 23\u001b[0;31m \u001b[0;32mfrom\u001b[0m \u001b[0mvisualization\u001b[0m \u001b[0;32mimport\u001b[0m \u001b[0mdraw_paths_on_image\u001b[0m\u001b[0;34m\u001b[0m\u001b[0;34m\u001b[0m\u001b[0m\n\u001b[0m\u001b[1;32m     24\u001b[0m \u001b[0mbaseline_image\u001b[0m \u001b[0;34m=\u001b[0m \u001b[0mdraw_paths_on_image\u001b[0m\u001b[0;34m(\u001b[0m\u001b[0mimage\u001b[0m\u001b[0;34m=\u001b[0m\u001b[0mim\u001b[0m\u001b[0;34m,\u001b[0m \u001b[0mtrue_path\u001b[0m\u001b[0;34m=\u001b[0m\u001b[0mlabel\u001b[0m\u001b[0;34m,\u001b[0m \u001b[0msuggested_path\u001b[0m\u001b[0;34m=\u001b[0m\u001b[0mbaseline\u001b[0m\u001b[0;34m,\u001b[0m \u001b[0mscaling_factor\u001b[0m\u001b[0;34m=\u001b[0m\u001b[0;36m2\u001b[0m\u001b[0;34m,\u001b[0m \u001b[0mcolor\u001b[0m\u001b[0;34m=\u001b[0m\u001b[0;34m\"#FF0000\"\u001b[0m\u001b[0;34m)\u001b[0m\u001b[0;34m\u001b[0m\u001b[0;34m\u001b[0m\u001b[0m\n\u001b[1;32m     25\u001b[0m \u001b[0;34m\u001b[0m\u001b[0m\n",
      "\u001b[0;32m/scratch/ahmedk/semprola_grids/semprola/ExprStarcraftShortestPath/data/visualization.py\u001b[0m in \u001b[0;36m<module>\u001b[0;34m\u001b[0m\n\u001b[1;32m      2\u001b[0m \u001b[0;32mfrom\u001b[0m \u001b[0mPIL\u001b[0m \u001b[0;32mimport\u001b[0m \u001b[0mImage\u001b[0m\u001b[0;34m,\u001b[0m \u001b[0mImageDraw\u001b[0m\u001b[0;34m\u001b[0m\u001b[0;34m\u001b[0m\u001b[0m\n\u001b[1;32m      3\u001b[0m \u001b[0;32mfrom\u001b[0m \u001b[0mdecorators\u001b[0m \u001b[0;32mimport\u001b[0m \u001b[0minput_to_numpy\u001b[0m\u001b[0;34m\u001b[0m\u001b[0;34m\u001b[0m\u001b[0m\n\u001b[0;32m----> 4\u001b[0;31m \u001b[0;32mfrom\u001b[0m \u001b[0mcomb_modules\u001b[0m\u001b[0;34m.\u001b[0m\u001b[0mdijkstra\u001b[0m \u001b[0;32mimport\u001b[0m \u001b[0mdijkstra\u001b[0m\u001b[0;34m\u001b[0m\u001b[0;34m\u001b[0m\u001b[0m\n\u001b[0m\u001b[1;32m      5\u001b[0m \u001b[0;32mfrom\u001b[0m \u001b[0mutils\u001b[0m \u001b[0;32mimport\u001b[0m \u001b[0mconcat_2d\u001b[0m\u001b[0;34m\u001b[0m\u001b[0;34m\u001b[0m\u001b[0m\n\u001b[1;32m      6\u001b[0m \u001b[0;34m\u001b[0m\u001b[0m\n",
      "\u001b[0;31mModuleNotFoundError\u001b[0m: No module named 'comb_modules'"
     ]
    }
   ],
   "source": [
    "data_dir = '../data/warcraft_shortest_path/12x12/'\n",
    "\n",
    "data_suffix = \"maps\"\n",
    "train_prefix = \"train\"\n",
    "\n",
    "\n",
    "train_inputs = np.load(os.path.join(data_dir, train_prefix + \"_\" + data_suffix + \".npy\"))\n",
    "train_weights = np.load(os.path.join(data_dir, train_prefix + \"_vertex_weights.npy\"))\n",
    "train_labels = np.load(os.path.join(data_dir, train_prefix + \"_shortest_paths.npy\"))\n",
    "\n",
    "#images = train_inputs.transpose(0,2,3,1).astype(np.uint8)\n",
    "images = train_inputs\n",
    "\n",
    "print(\"Train images shape: \", train_inputs.shape)\n",
    "print(\"Train labels shape: \",  train_labels.shape)\n",
    "print(\"Weights shape:\", train_weights.shape)\n",
    "\n",
    "idx = 10\n",
    "im = images[idx]\n",
    "label = train_labels[idx]\n",
    "weights = train_weights[idx]\n",
    "\n",
    "from visualization import draw_paths_on_image\n",
    "baseline_image = draw_paths_on_image(image=im, true_path=label, suggested_path=baseline, scaling_factor=2, color=\"#FF0000\")\n",
    "\n",
    "fig, ax = plt.subplots(1,3, figsize=(12,12))\n",
    "\n",
    "ax[0].imshow(im.astype(np.uint8))\n",
    "ax[0].set_title(\"Map\")\n",
    "ax[1].imshow(baseline_image)\n",
    "ax[1].set_title(\"Baseline Prediction\")\n",
    "ax[2].set_title(\"SL Prediction\")\n",
    "#     ax[2].imshow(sl_image)\n",
    "fig.savefig(str(idx) + '.png', dpi=80, transparent=True)\n",
    "\n",
    "\n",
    "# fig, ax = plt.subplots(1,3, figsize=(12,12))\n",
    "\n",
    "# ax[0].imshow(im.astype(np.uint8))\n",
    "# ax[0].set_title(\"Map\")\n",
    "# ax[1].imshow(label)\n",
    "# ax[1].set_title(\"Shortest path\")\n",
    "# ax[2].set_title(\"Vertex weights\")\n",
    "# ax[2].imshow(weights.astype(np.float32))"
   ]
  },
  {
   "cell_type": "markdown",
   "metadata": {},
   "source": [
    "# MNIST Min-cost Perfect Matching"
   ]
  },
  {
   "cell_type": "markdown",
   "metadata": {},
   "source": [
    "Download dataset"
   ]
  },
  {
   "cell_type": "code",
   "execution_count": null,
   "metadata": {},
   "outputs": [],
   "source": [
    "\n",
    "os.makedirs(\"mnist_matching\", exist_ok=True)\n",
    "mnist_matching_url = \"https://edmond.mpdl.mpg.de/imeji/exportServlet?format=file&id=http://edmond.mpdl.mpg.de/imeji/item/HrfrAxcoQ049qk4K\"\n",
    "data_path = \"datasets/perfect_matching.tar.gz\"\n",
    "if not os.path.exists(data_path):\n",
    "    print(\"Downloading dataset...\")\n",
    "    download_url(mnist_matching_url, data_path)\n",
    "\n",
    "print(f\"Extracting {data_path} ...\")\n",
    "f = tarfile.open(data_path, \"r:gz\")\n",
    "f.extractall(path=\"mnist_matching\")\n",
    "f.close()\n",
    "print(\"Extracted\")\n",
    "\n"
   ]
  },
  {
   "cell_type": "code",
   "execution_count": null,
   "metadata": {},
   "outputs": [],
   "source": [
    "data_dir = './mnist_matching/4x4_mnist_nonunique'\n",
    "\n",
    "train_prefix = \"train\"\n",
    "data_suffix = \"full_images\"\n",
    "train_inputs = np.load(os.path.join(data_dir, train_prefix + \"_\" + data_suffix + \".npy\"))\n",
    "train_labels = np.load(os.path.join(data_dir, train_prefix + \"_perfect_matching.npy\"))\n",
    "\n",
    "images = train_inputs.transpose(0,2,3,1).astype(np.uint8)\n",
    "\n",
    "\n",
    "img_idx = 2\n",
    "\n",
    "plt.title(\"Example training data point\")\n",
    "plt.imshow(images[img_idx][:, :, 0], cmap=\"gray\")\n"
   ]
  },
  {
   "cell_type": "markdown",
   "metadata": {},
   "source": [
    "The labels for each datapoint are vectors inidicating each edge that was used in the perfect matching by 0-1 entries. In order to convert this to grid coordinates, the function `edges_from_grid` is useful returning the set of edges as tuples of grid coordinates (y1,x1, y2, x2). The label vector indicates which edges are in the matching from this set, example usage for a grid of dimension 4:\n",
    "\n",
    "```python\n",
    "edges = edges_from_grid(4, neighbourhood_fn='4-grid')\n",
    "\n",
    "```"
   ]
  },
  {
   "cell_type": "code",
   "execution_count": null,
   "metadata": {},
   "outputs": [],
   "source": [
    "plt.title(\"Edge label vector\")\n",
    "plt.imshow(train_labels[img_idx][..., None])"
   ]
  },
  {
   "cell_type": "code",
   "execution_count": null,
   "metadata": {},
   "outputs": [],
   "source": [
    "labeled_image = perfect_matching_vis(images[img_idx], 4, train_labels[img_idx], color=\"#e19c24\", width=2)\n",
    "plt.imshow(labeled_image)"
   ]
  },
  {
   "cell_type": "markdown",
   "metadata": {},
   "source": [
    "# Country Capitals Travelling Salesman Problem"
   ]
  },
  {
   "cell_type": "markdown",
   "metadata": {},
   "source": [
    "Download dataset"
   ]
  },
  {
   "cell_type": "code",
   "execution_count": null,
   "metadata": {},
   "outputs": [],
   "source": [
    "import tarfile\n",
    "import urllib.request\n",
    "\n",
    "os.makedirs(\"globe_tsp\", exist_ok=True)\n",
    "globe_tsp_url = \"https://edmond.mpdl.mpg.de/imeji/exportServlet?format=file&id=http://edmond.mpdl.mpg.de/imeji/item/70niNNMFUsmfEyfm\"\n",
    "data_path = \"globe_tsp.tar.gz\"\n",
    "if not os.path.exists(data_path):\n",
    "    print(\"Downloading dataset...\")\n",
    "    download_url(globe_tsp_url, data_path)\n",
    "\n",
    "print(f\"Extracting {data_path} ...\")\n",
    "f = tarfile.open(data_path, \"r:gz\")\n",
    "f.extractall(path=\"datasets/globe_tsp\")\n",
    "f.close()\n",
    "print(\"Extracted\")\n"
   ]
  },
  {
   "cell_type": "markdown",
   "metadata": {},
   "source": [
    "We've generated random subsets of country capitals from 100 countries. The training dataset contains 10000 instances, each consisting of 10 images of flags as the input and the optimal TSP tour of the corresponding capitals as the label. For each instance it also contains the ground truth distance matrix of the capitals that generate the optimal TSP tour, but the ground truth distance matrix is not used for training."
   ]
  },
  {
   "cell_type": "code",
   "execution_count": null,
   "metadata": {},
   "outputs": [],
   "source": [
    "# run ``python3 -m pip install git+https://github.com/matplotlib/basemap.git``"
   ]
  },
  {
   "cell_type": "markdown",
   "metadata": {},
   "source": [
    "The dataset"
   ]
  },
  {
   "cell_type": "code",
   "execution_count": null,
   "metadata": {},
   "outputs": [],
   "source": [
    "data_dir = './globe_tsp/10_countries_from_100/'\n",
    "\n",
    "train_prefix = \"train\"\n",
    "\n",
    "\n",
    "flag_indices = np.load(os.path.join(data_dir, train_prefix + \"_indices.npy\"))\n",
    "country_names, gps, flags = zip(*np.load(os.path.join(data_dir, \"countries.npy\"), allow_pickle=True))\n",
    "distance_matrices = np.load(os.path.join(data_dir, train_prefix + \"_distance_matrices.npy\"))\n",
    "tsp_tours = np.load(os.path.join(data_dir, train_prefix + \"_tsp_tours.npy\"))\n",
    "\n",
    "print(\"Flags shape: \", np.array(flags).shape)\n",
    "print(\"Gps shape: \", np.array(gps).shape)\n",
    "print(\"Flag indices shape (indicates which flags are used in an instance): \", np.array(flag_indices).shape)\n",
    "print(\"Distance matrices shape: \", distance_matrices.shape)\n",
    "print(\"TSP tours / labels shape: \",  tsp_tours.shape)\n",
    "\n",
    "\n"
   ]
  },
  {
   "cell_type": "markdown",
   "metadata": {},
   "source": [
    "Examples of individual flags and training instances"
   ]
  },
  {
   "cell_type": "code",
   "execution_count": null,
   "metadata": {},
   "outputs": [],
   "source": [
    "fig, ax = plt.subplots(1,3, figsize=(12,12))\n",
    "\n",
    "# We have a set of 100 flags with gps data\n",
    "flag_idx = 57\n",
    "example_flag = flags[flag_idx]\n",
    "example_flag_gps = gps[flag_idx]\n",
    "example_flag_name = country_names[flag_idx]\n",
    "ax[0].imshow(example_flag.astype(np.uint8))\n",
    "ax[0].set_title(f\"One of 10 flags in input of instance:\\n {example_flag_name} at GPS: {example_flag_gps}\")\n",
    "\n",
    "# Each instance consists of 10 images of flags as the input and the optimal tsp tour \n",
    "# of the corresponding capitals as the label\n",
    "idx = 10\n",
    "label = tsp_tours[idx]\n",
    "distances = distance_matrices[idx]\n",
    "flags_indices_in_instance = flag_indices[idx]\n",
    "\n",
    "ax[1].set_title(\"Example TSP tour \\n (used as train label)\")\n",
    "ax[1].imshow(label)\n",
    "ax[2].set_title(\"Ground truth Distance Matrix for instance \\n (not used for training)\")\n",
    "ax[2].imshow(distances.astype(np.float32))\n"
   ]
  },
  {
   "cell_type": "markdown",
   "metadata": {},
   "source": [
    "Visualization of the captial locations"
   ]
  },
  {
   "cell_type": "code",
   "execution_count": null,
   "metadata": {},
   "outputs": [],
   "source": [
    "flags_in_instance = np.array(flags)[flags_indices_in_instance]\n",
    "gps_in_instance = np.array(gps)[flags_indices_in_instance]"
   ]
  },
  {
   "cell_type": "code",
   "execution_count": null,
   "metadata": {},
   "outputs": [],
   "source": [
    "# Only plots the tour segments that are fully visible, i.e. both countries are visible\n",
    "plot_tsp_path(gps_in_instance, flags_in_instance, tsp_tours[idx])"
   ]
  },
  {
   "cell_type": "code",
   "execution_count": null,
   "metadata": {},
   "outputs": [],
   "source": []
  }
 ],
 "metadata": {
  "kernelspec": {
   "display_name": "Python 3 (ipykernel)",
   "language": "python",
   "name": "python3"
  },
  "language_info": {
   "codemirror_mode": {
    "name": "ipython",
    "version": 3
   },
   "file_extension": ".py",
   "mimetype": "text/x-python",
   "name": "python",
   "nbconvert_exporter": "python",
   "pygments_lexer": "ipython3",
   "version": "3.9.7"
  },
  "metadata": {
   "interpreter": {
    "hash": "82fd9ef7c28f4052dbb5b418868ebb072a158352785dcd1a312144f32fb0549a"
   }
  }
 },
 "nbformat": 4,
 "nbformat_minor": 4
}
